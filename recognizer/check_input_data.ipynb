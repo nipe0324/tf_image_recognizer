{
 "cells": [
  {
   "cell_type": "markdown",
   "metadata": {},
   "source": [
    "## CIFAR-10のバイナリデータを読み込み表示する\n",
    "\n",
    "画像やラベルが適切か確認する"
   ]
  },
  {
   "cell_type": "code",
   "execution_count": null,
   "metadata": {
    "collapsed": true
   },
   "outputs": [],
   "source": [
    "# ライブラリの読み込み\n",
    "from __future__ import absolute_import\n",
    "from __future__ import division\n",
    "from __future__ import print_function\n",
    "\n",
    "import os\n",
    "import json\n",
    "\n",
    "import numpy as np\n",
    "import tensorflow as tf\n",
    "from PIL import Image\n",
    "\n",
    "import matplotlib.pyplot as plt\n",
    "from matplotlib.image import imread\n",
    "%matplotlib inline"
   ]
  },
  {
   "cell_type": "code",
   "execution_count": null,
   "metadata": {
    "collapsed": false
   },
   "outputs": [],
   "source": [
    "# 設定値を設定\n",
    "FLAGS = tf.app.flags.FLAGS\n",
    "tf.app.flags.DEFINE_string('bin_path',        './../data/input/images.bin', \"処理するファイルのパス\")\n",
    "tf.app.flags.DEFINE_string('label_path',     './../data/input/labels.json', \"ラベルファイルのパス\")\n",
    "tf.app.flags.DEFINE_integer('image_num', 15, \"読み込む画像数\")\n",
    "tf.app.flags.DEFINE_integer('offset',             0, \"読み飛ばす画像数\")"
   ]
  },
  {
   "cell_type": "code",
   "execution_count": null,
   "metadata": {
    "collapsed": true
   },
   "outputs": [],
   "source": [
    "# Cifar10Reader\n",
    "class Cifar10Record(object):\n",
    "  width = 32\n",
    "  height = 32\n",
    "  depth = 3\n",
    "  \n",
    "  def set_label(self, label_byte):\n",
    "    self.label = np.frombuffer(label_byte, dtype=np.uint8)\n",
    "  \n",
    "  def set_image(self, image_bytes):\n",
    "    byte_buffer = np.frombuffer(image_bytes, dtype=np.int8)\n",
    "    reshaped_array = np.reshape(byte_buffer,\n",
    "                                [self.depth, self.width, self.height])\n",
    "    self.byte_array = np.transpose(reshaped_array, [1, 2, 0])\n",
    "    self.byte_array = self.byte_array.astype(np.float32)\n",
    "\n",
    "class Cifar10Reader(object):\n",
    "  def __init__(self, filename):\n",
    "    if not os.path.exists(filename):\n",
    "      print(filename + ' is not exist')\n",
    "      return\n",
    "  \n",
    "    self.bytestream = open(filename, mode=\"rb\")\n",
    "  \n",
    "  def close(self):\n",
    "    if not self.bytestream:\n",
    "      self.bytestream.close()\n",
    "  \n",
    "  def read(self, index):\n",
    "    result = Cifar10Record()\n",
    "    \n",
    "    label_bytes = 1\n",
    "    image_bytes = result.height * result.width * result.depth\n",
    "    record_bytes = label_bytes + image_bytes\n",
    "    \n",
    "    self.bytestream.seek(record_bytes * index, 0)\n",
    "    \n",
    "    result.set_label(self.bytestream.read(label_bytes))\n",
    "    result.set_image(self.bytestream.read(image_bytes))\n",
    "    \n",
    "    return result"
   ]
  },
  {
   "cell_type": "code",
   "execution_count": null,
   "metadata": {
    "collapsed": false
   },
   "outputs": [],
   "source": [
    "# ラベルファイルの読み込み\n",
    "json_file = open(FLAGS.label_path)\n",
    "labels_dict = json.load(json_file)"
   ]
  },
  {
   "cell_type": "code",
   "execution_count": null,
   "metadata": {
    "collapsed": false
   },
   "outputs": [],
   "source": [
    "# 画像を読み込んで表示\n",
    "reader = Cifar10Reader(FLAGS.bin_path)\n",
    "stop = FLAGS.offset + FLAGS.image_num\n",
    "\n",
    "fig = plt.figure(figsize=(10, 4))\n",
    "\n",
    "for index in range(FLAGS.offset, stop):\n",
    "    rows = int(np.ceil(FLAGS.image_num / 5))\n",
    "    subplot = fig.add_subplot(rows, 5, index+1)\n",
    "    image = reader.read(index)  \n",
    "    imageshow = Image.fromarray(image.byte_array.astype(np.uint8))\n",
    "    \n",
    "    subplot.imshow(imageshow)\n",
    "    subplot.set_title(labels_dict[str(image.label[0])])\n",
    "\n",
    "fig.tight_layout()\n",
    "\n",
    "reader.close()"
   ]
  }
 ],
 "metadata": {
  "kernelspec": {
   "display_name": "Python 3",
   "language": "python",
   "name": "python3"
  },
  "language_info": {
   "codemirror_mode": {
    "name": "ipython",
    "version": 3
   },
   "file_extension": ".py",
   "mimetype": "text/x-python",
   "name": "python",
   "nbconvert_exporter": "python",
   "pygments_lexer": "ipython3",
   "version": "3.5.1"
  }
 },
 "nbformat": 4,
 "nbformat_minor": 1
}
